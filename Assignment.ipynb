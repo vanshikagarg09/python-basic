{
  "nbformat": 4,
  "nbformat_minor": 0,
  "metadata": {
    "colab": {
      "provenance": []
    },
    "kernelspec": {
      "name": "python3",
      "display_name": "Python 3"
    },
    "language_info": {
      "name": "python"
    }
  },
  "cells": [
    {
      "cell_type": "markdown",
      "source": [
        "                                                     PYTHON BASIC QUESTION"
      ],
      "metadata": {
        "id": "3Ptja_B5iLKy"
      }
    },
    {
      "cell_type": "markdown",
      "source": [
        "1. What is Python and why is it popular?\n",
        ">> Python is a programming language that we use to talk to computers and tell them what to do. This is popular for the various reasons-\n",
        "Easy to use, Used everywhere, Huge support, Free and Open  and Less code, More work done.\n"
      ],
      "metadata": {
        "id": "JYj4skX8u2Ha"
      }
    },
    {
      "cell_type": "markdown",
      "source": [
        "2. What is an interpreter in Python ?\n",
        ">> Interpreter in python is a program that reads and runs your python code line by line. if there's a mistake in your code the interpreter stops and show error."
      ],
      "metadata": {
        "id": "QyPPLBZou2bV"
      }
    },
    {
      "cell_type": "markdown",
      "source": [
        "3. What are pre-defined keywords in Python ?\n",
        ">> Predefined keywords are special words that have a fixed meaning.they are like commands for python. Example- if is used to make decision ,for is used to repeat things, def is used to create a function and so on."
      ],
      "metadata": {
        "id": "5eP09WLgu23X"
      }
    },
    {
      "cell_type": "markdown",
      "source": [
        "4. Can keywords be used as variable names ?\n",
        ">>No, you cannot use keywords as variables names in python because keywords are special words that python already understands.\n",
        "if you try to use them as a variable, python will get confused.\n"
      ],
      "metadata": {
        "id": "5t8JgeoGu3FM"
      }
    },
    {
      "cell_type": "markdown",
      "source": [
        "5. What is mutability in Python ?\n",
        ">> Mutability means whether a value can be changed after it is created.\n",
        "examples- list, dict(dictionary) ,set."
      ],
      "metadata": {
        "id": "QZvIj0KXu3Iq"
      }
    },
    {
      "cell_type": "markdown",
      "source": [
        "6. Why are lists mutable, but tuples are immutable\n",
        ">> Lists are designed to hold items that you might want to change,add,or remove. and tuples are used when you want to protect data from being changed."
      ],
      "metadata": {
        "id": "CkKYzIVN6Cab"
      }
    },
    {
      "cell_type": "markdown",
      "source": [
        "7. What is the difference between “==” and “is” operators in Python ?\n",
        "   >> In Python, == and is are both comparison operators, but they serve different purpose.      \n",
        "   == operator ->  check if two variable have the same content.   \n",
        "   is operator-> check if both variables point to the exact same object."
      ],
      "metadata": {
        "id": "5MtFj5z7u3Or"
      }
    },
    {
      "cell_type": "markdown",
      "source": [
        "8.  What are logical operators in Python ?\n",
        ">> Logical operators are used to make decisions based on True or False values. there are 3 main logical operators.    \n",
        "And - true if both are true      \n",
        "OR- true if atleast one is true       \n",
        "Not- flips the value."
      ],
      "metadata": {
        "id": "vO3Uf4q85baP"
      }
    },
    {
      "cell_type": "markdown",
      "source": [
        "9. What is type casting in Python ?\n",
        ">> Typecasting means changing one data type into another.     \n",
        "int() - inetger number, float() - decimal number, str() - string, bool() - true or false,  List() - list."
      ],
      "metadata": {
        "id": "I1RdHsmgu3R3"
      }
    },
    {
      "cell_type": "markdown",
      "source": [
        "10. What is the difference between implicit and explicit type casting ?\n",
        ">> Implicit typecasting - python automatically converts one data type to another.     \n",
        "Explicit typecasting -  we manually convert data type using functions like int() , float() , str() ,etc."
      ],
      "metadata": {
        "id": "Hhhdust499YD"
      }
    },
    {
      "cell_type": "markdown",
      "source": [
        "11. What is the purpose of conditional statements in Python ?\n",
        ">> Conditonal statement are used to make decisions in your python program.and purpose they help your code choose what to do based on conditions."
      ],
      "metadata": {
        "id": "4leNCFj999JP"
      }
    },
    {
      "cell_type": "markdown",
      "source": [
        "12. How does the elif statement work ?\n",
        ">> elif means \"else if\" - it's used when you want to check more than one condition in a decision -making block."
      ],
      "metadata": {
        "id": "gaG2aYu4986o"
      }
    },
    {
      "cell_type": "markdown",
      "source": [
        "13. What is the difference between for and while loop?\n",
        ">> For loop-  it's used when the number of iterations is known beforehand.      \n",
        " while loops - while loops continue as long as a condition remains true,where the number of iteration is unknown or depends on a dynamic condition."
      ],
      "metadata": {
        "id": "X9e7367J98sl"
      }
    },
    {
      "cell_type": "markdown",
      "source": [
        "14. Describe a scenario where a while loop is more suitable than a for loop?\n",
        ">> Keep asking the user for a password until it's correct.\n",
        "you don't know how many attempts it will take ,so you use a while loop."
      ],
      "metadata": {
        "id": "lxCMmqED97B5"
      }
    },
    {
      "cell_type": "markdown",
      "source": [
        "                                                    PRACTICAL QUESTIONS"
      ],
      "metadata": {
        "id": "w0RfNMN8iava"
      }
    },
    {
      "cell_type": "code",
      "source": [
        "# 1. Write a Python program to print \"Hello, World!\"\n",
        "print(\"Hello World\")"
      ],
      "metadata": {
        "colab": {
          "base_uri": "https://localhost:8080/"
        },
        "id": "USdXi_cQDrG2",
        "outputId": "6ad7926f-4193-420f-f10a-8648cdf5181b"
      },
      "execution_count": null,
      "outputs": [
        {
          "output_type": "stream",
          "name": "stdout",
          "text": [
            "Hello World\n"
          ]
        }
      ]
    },
    {
      "cell_type": "code",
      "source": [
        "# 2. Write a Python program that displays your name and age\n",
        "name= \"vanshika\"\n",
        "age= \"22\"\n",
        "print(\"my name is\",name)\n",
        "print(\"my age is\", age)"
      ],
      "metadata": {
        "colab": {
          "base_uri": "https://localhost:8080/"
        },
        "id": "CzuQMt9NEBSH",
        "outputId": "5e6886da-1f79-470f-fcdd-4d79272e1050"
      },
      "execution_count": null,
      "outputs": [
        {
          "output_type": "stream",
          "name": "stdout",
          "text": [
            "my name is vanshika\n",
            "my age is 22\n"
          ]
        }
      ]
    },
    {
      "cell_type": "code",
      "source": [
        "# 3.Write code to print all the pre-defined keywords in Python using the keyword library\n",
        "import keyword\n",
        "print(\"keywords in python are\")\n",
        "print(keyword.kwlist)\n"
      ],
      "metadata": {
        "colab": {
          "base_uri": "https://localhost:8080/"
        },
        "id": "Ouum7bxNEBPl",
        "outputId": "f442c15f-ba71-44f2-8ed2-1d75f5acb8aa"
      },
      "execution_count": null,
      "outputs": [
        {
          "output_type": "stream",
          "name": "stdout",
          "text": [
            "keywords in python are\n",
            "['False', 'None', 'True', 'and', 'as', 'assert', 'async', 'await', 'break', 'class', 'continue', 'def', 'del', 'elif', 'else', 'except', 'finally', 'for', 'from', 'global', 'if', 'import', 'in', 'is', 'lambda', 'nonlocal', 'not', 'or', 'pass', 'raise', 'return', 'try', 'while', 'with', 'yield']\n"
          ]
        }
      ]
    },
    {
      "cell_type": "code",
      "source": [
        "# 4.Write a program that checks if a given word is a Python keyword\n",
        "import keyword\n",
        "word=input(\"enter a word\")\n",
        "if keyword.iskeyword(word):\n",
        "    print(word,\"is a keyword\")\n",
        "else:\n",
        "    print(word,\"is not a keyword\")\n"
      ],
      "metadata": {
        "colab": {
          "base_uri": "https://localhost:8080/"
        },
        "id": "JjhnKRjHEBM1",
        "outputId": "5bd132c8-ccea-40f9-e3a1-963a1c86a839"
      },
      "execution_count": null,
      "outputs": [
        {
          "output_type": "stream",
          "name": "stdout",
          "text": [
            "enter a word class\n",
            " class is not a keyword\n"
          ]
        }
      ]
    },
    {
      "cell_type": "code",
      "source": [
        "# 5. Create a list and tuple in Python, and demonstrate how attempting to change an element works differently for each.\n",
        "my_list=[10,20,30]    #list are mutable\n",
        "my_list[0]=50\n",
        "print(my_list)\n",
        "\n",
        "my_tuple=(10,20,30)   #tuples are immutable\n",
        "my_tuple[0] =80\n",
        "print(my_tuple)\n"
      ],
      "metadata": {
        "id": "MTp29ea0U7Vu",
        "colab": {
          "base_uri": "https://localhost:8080/",
          "height": 211
        },
        "outputId": "424f67ed-6319-4720-b70f-9f766e2d3b7b"
      },
      "execution_count": null,
      "outputs": [
        {
          "output_type": "stream",
          "name": "stdout",
          "text": [
            "[50, 20, 30]\n"
          ]
        },
        {
          "output_type": "error",
          "ename": "TypeError",
          "evalue": "'tuple' object does not support item assignment",
          "traceback": [
            "\u001b[0;31m---------------------------------------------------------------------------\u001b[0m",
            "\u001b[0;31mTypeError\u001b[0m                                 Traceback (most recent call last)",
            "\u001b[0;32m<ipython-input-7-5c9351e94645>\u001b[0m in \u001b[0;36m<cell line: 0>\u001b[0;34m()\u001b[0m\n\u001b[1;32m      5\u001b[0m \u001b[0;34m\u001b[0m\u001b[0m\n\u001b[1;32m      6\u001b[0m \u001b[0mmy_tuple\u001b[0m\u001b[0;34m=\u001b[0m\u001b[0;34m(\u001b[0m\u001b[0;36m10\u001b[0m\u001b[0;34m,\u001b[0m\u001b[0;36m20\u001b[0m\u001b[0;34m,\u001b[0m\u001b[0;36m30\u001b[0m\u001b[0;34m)\u001b[0m\u001b[0;34m\u001b[0m\u001b[0;34m\u001b[0m\u001b[0m\n\u001b[0;32m----> 7\u001b[0;31m \u001b[0mmy_tuple\u001b[0m\u001b[0;34m[\u001b[0m\u001b[0;36m0\u001b[0m\u001b[0;34m]\u001b[0m\u001b[0;34m=\u001b[0m\u001b[0;36m80\u001b[0m\u001b[0;34m\u001b[0m\u001b[0;34m\u001b[0m\u001b[0m\n\u001b[0m\u001b[1;32m      8\u001b[0m \u001b[0mprint\u001b[0m\u001b[0;34m(\u001b[0m\u001b[0mmy_tuple\u001b[0m\u001b[0;34m)\u001b[0m\u001b[0;34m\u001b[0m\u001b[0;34m\u001b[0m\u001b[0m\n",
            "\u001b[0;31mTypeError\u001b[0m: 'tuple' object does not support item assignment"
          ]
        }
      ]
    },
    {
      "cell_type": "code",
      "source": [
        "# 6. Write a function to demonstrate the behavior of mutable and immutable arguments.\n",
        "def change(x,y):\n",
        "  x+=5\n",
        "  y.append(10)\n",
        "  print('inside function:')\n",
        "  print(x,y)\n",
        "\n",
        "  x=5\n",
        "  a=4\n",
        "  b=[1,2,3]\n",
        "  change(x,b)\n",
        "  print('outside function')\n",
        "  print(a,b)\n",
        "\n"
      ],
      "metadata": {
        "id": "syZ_TlpKEBKR"
      },
      "execution_count": null,
      "outputs": []
    },
    {
      "cell_type": "code",
      "source": [
        "# 7. Write a program that performs basic arithmetic operations on two user-input numbers\n",
        "a=int(input(\"enter first number:\"))\n",
        "b=int(input(\"enter second number:\"))\n",
        "print(\"addition\",a+b)\n",
        "print(\"subtraction\",a-b)\n",
        "print(\"multiplication\",a*b)\n",
        "if b!=0:\n",
        "    print(\"division,\",a/b)\n",
        "else:\n",
        "    print(\"not divisible\")\n"
      ],
      "metadata": {
        "id": "nEhj_7BoEBG7",
        "colab": {
          "base_uri": "https://localhost:8080/"
        },
        "outputId": "7f93fb98-0e98-4b8a-8a02-5de292ffa036"
      },
      "execution_count": null,
      "outputs": [
        {
          "output_type": "stream",
          "name": "stdout",
          "text": [
            "enter first number:18\n",
            "enter second number:4\n",
            "addition 22\n",
            "subtraction 14\n",
            "multiplication 72\n",
            "division, 4.5\n"
          ]
        }
      ]
    },
    {
      "cell_type": "code",
      "source": [
        "# 8.  Write a program to demonstrate the use of logical operators\n",
        "x=8\n",
        "y=10\n",
        "print(x>3 and y>8)\n",
        "print(x>10 or y>15)\n",
        "print(not(x>7))\n"
      ],
      "metadata": {
        "id": "eEby2J3EEBDs",
        "colab": {
          "base_uri": "https://localhost:8080/"
        },
        "outputId": "a32af797-e412-4838-917a-e86a3accb991"
      },
      "execution_count": null,
      "outputs": [
        {
          "output_type": "stream",
          "name": "stdout",
          "text": [
            "True\n",
            "False\n",
            "False\n"
          ]
        }
      ]
    },
    {
      "cell_type": "code",
      "source": [
        "# 9.Write a Python program to convert user input from string to integer, float, and boolean types.\n",
        "a=input(\"enter a value\")\n",
        "print(int(a))\n",
        "print(float(a))\n",
        "print(bool(a))"
      ],
      "metadata": {
        "id": "IoGknC9LEBBE",
        "colab": {
          "base_uri": "https://localhost:8080/"
        },
        "outputId": "7bf04419-0689-403e-8fdb-5804e4f3f8c9"
      },
      "execution_count": 29,
      "outputs": [
        {
          "output_type": "stream",
          "name": "stdout",
          "text": [
            "enter a value19\n",
            "19\n",
            "19.0\n",
            "True\n"
          ]
        }
      ]
    },
    {
      "cell_type": "code",
      "source": [
        "# 10.  Write code to demonstrate type casting with list elements\n",
        "a=[\"10\",\"20\",\"30\"]\n",
        "for i in range(len(a)):\n",
        "  a[i]=int(a[i])\n",
        "print(a)\n",
        ""
      ],
      "metadata": {
        "id": "KNxCyY_tEA9-",
        "colab": {
          "base_uri": "https://localhost:8080/"
        },
        "outputId": "d3abbf0d-a065-46a7-ab66-c9c16f5c1c81"
      },
      "execution_count": 54,
      "outputs": [
        {
          "output_type": "stream",
          "name": "stdout",
          "text": [
            "[10, 20, 30]\n"
          ]
        }
      ]
    },
    {
      "cell_type": "code",
      "source": [
        "# 11.  Write a program that checks if a number is positive, negative, or zero.\n",
        "num=int(input(\"enter a number\"))\n",
        "if num>0:\n",
        "    print(\"positive\")\n",
        "if num<0:\n",
        "  print(\"negative\")\n",
        "else:\n",
        "  print(\"zero\")"
      ],
      "metadata": {
        "id": "KSFzp153EA6v",
        "colab": {
          "base_uri": "https://localhost:8080/"
        },
        "outputId": "6d739751-d9dd-4ba5-a481-0bd3d604da16"
      },
      "execution_count": 33,
      "outputs": [
        {
          "output_type": "stream",
          "name": "stdout",
          "text": [
            "enter a number10\n",
            "positive\n",
            "zero\n"
          ]
        }
      ]
    },
    {
      "cell_type": "code",
      "source": [
        "# 12. Write a for loop to print numbers from 1 to 10.\n",
        "a=1\n",
        "b=11\n",
        "for i in range(a,b):\n",
        "  print(i)"
      ],
      "metadata": {
        "id": "MsKYQaedEA07",
        "colab": {
          "base_uri": "https://localhost:8080/"
        },
        "outputId": "937794f9-eb04-46f6-a5e4-1232c71cb4f2"
      },
      "execution_count": 34,
      "outputs": [
        {
          "output_type": "stream",
          "name": "stdout",
          "text": [
            "1\n",
            "2\n",
            "3\n",
            "4\n",
            "5\n",
            "6\n",
            "7\n",
            "8\n",
            "9\n",
            "10\n"
          ]
        }
      ]
    },
    {
      "cell_type": "code",
      "source": [
        "# 13.  Write a Python program to find the sum of all even numbers between 1 and 50.\n",
        "sum_even = 0\n",
        "for i in range(1,51):\n",
        "  if i%2==0:\n",
        "   sum_even += i\n",
        "   print(\"sum of even numbers between 1 and 50 is\", sum_even)\n",
        ""
      ],
      "metadata": {
        "id": "sFj4tCN8EAuc",
        "colab": {
          "base_uri": "https://localhost:8080/"
        },
        "outputId": "b3d04b66-927b-491d-8265-e63aa5ab8687"
      },
      "execution_count": 51,
      "outputs": [
        {
          "output_type": "stream",
          "name": "stdout",
          "text": [
            "sum of even numbers between 1 and 50 is 2\n",
            "sum of even numbers between 1 and 50 is 6\n",
            "sum of even numbers between 1 and 50 is 12\n",
            "sum of even numbers between 1 and 50 is 20\n",
            "sum of even numbers between 1 and 50 is 30\n",
            "sum of even numbers between 1 and 50 is 42\n",
            "sum of even numbers between 1 and 50 is 56\n",
            "sum of even numbers between 1 and 50 is 72\n",
            "sum of even numbers between 1 and 50 is 90\n",
            "sum of even numbers between 1 and 50 is 110\n",
            "sum of even numbers between 1 and 50 is 132\n",
            "sum of even numbers between 1 and 50 is 156\n",
            "sum of even numbers between 1 and 50 is 182\n",
            "sum of even numbers between 1 and 50 is 210\n",
            "sum of even numbers between 1 and 50 is 240\n",
            "sum of even numbers between 1 and 50 is 272\n",
            "sum of even numbers between 1 and 50 is 306\n",
            "sum of even numbers between 1 and 50 is 342\n",
            "sum of even numbers between 1 and 50 is 380\n",
            "sum of even numbers between 1 and 50 is 420\n",
            "sum of even numbers between 1 and 50 is 462\n",
            "sum of even numbers between 1 and 50 is 506\n",
            "sum of even numbers between 1 and 50 is 552\n",
            "sum of even numbers between 1 and 50 is 600\n",
            "sum of even numbers between 1 and 50 is 650\n"
          ]
        }
      ]
    },
    {
      "cell_type": "code",
      "source": [
        "# 14. Write a program to reverse a string using a while loop\n",
        "a=\"hello\"\n",
        "b=\"\"\n",
        "i=len(a)-1\n",
        "while i>=0:\n",
        "  b+=a[i]\n",
        "  i-=1\n",
        "  print(b)\n",
        "\n",
        "\n"
      ],
      "metadata": {
        "id": "9mTVl35qEAm4",
        "colab": {
          "base_uri": "https://localhost:8080/"
        },
        "outputId": "d73fe6cf-d53f-4e3f-ac4d-a2e9818cae23"
      },
      "execution_count": 37,
      "outputs": [
        {
          "output_type": "stream",
          "name": "stdout",
          "text": [
            "o\n",
            "ol\n",
            "oll\n",
            "olle\n",
            "olleh\n"
          ]
        }
      ]
    },
    {
      "cell_type": "code",
      "source": [
        "# 15.  Write a Python program to calculate the factorial of a number provided by the user using a while loop\n",
        "a= int(input(\"enter a number\"))\n",
        "b=1\n",
        "i=1\n",
        "while i<=a:\n",
        "  b= b*i\n",
        "  i=i+1\n",
        "  print(\"factorial of\",a,\"is\",b)\n"
      ],
      "metadata": {
        "id": "oSUMwhYiEAf3",
        "colab": {
          "base_uri": "https://localhost:8080/"
        },
        "outputId": "bf4a8b80-7ad1-4984-f2b1-83258fc6f7c9"
      },
      "execution_count": 38,
      "outputs": [
        {
          "output_type": "stream",
          "name": "stdout",
          "text": [
            "enter a number15\n",
            "factorial of 15 is 1\n",
            "factorial of 15 is 2\n",
            "factorial of 15 is 6\n",
            "factorial of 15 is 24\n",
            "factorial of 15 is 120\n",
            "factorial of 15 is 720\n",
            "factorial of 15 is 5040\n",
            "factorial of 15 is 40320\n",
            "factorial of 15 is 362880\n",
            "factorial of 15 is 3628800\n",
            "factorial of 15 is 39916800\n",
            "factorial of 15 is 479001600\n",
            "factorial of 15 is 6227020800\n",
            "factorial of 15 is 87178291200\n",
            "factorial of 15 is 1307674368000\n"
          ]
        }
      ]
    }
  ]
}